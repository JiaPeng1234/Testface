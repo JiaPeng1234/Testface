{
 "cells": [
  {
   "cell_type": "code",
   "execution_count": 18,
   "metadata": {},
   "outputs": [],
   "source": [
    "from glob import glob\n",
    "from PIL import Image\n",
    "import os\n",
    "\n",
    "\n",
    "def imageresize(text):\n",
    "\n",
    "    source_dir = 'C:\\MyGitHub\\Testface\\Camerapictures\\\\'    #'C:\\MyGitHub\\Testface\\Camerapictures'\n",
    "    target_dir = 'C:\\MyGitHub\\Testface\\input_images\\\\'\n",
    "    images_dir = 'C:\\MyGitHub\\Testface\\images\\\\'    #'C:\\MyGitHub\\Testface\\images'\n",
    "    file=text + \".jpg\"\n",
    "    filename = source_dir + file\n",
    "    print(filename)\n",
    "    \n",
    "    with Image.open(filename) as im:\n",
    "        width, height = im.size\n",
    "        print(filename, width, height, os.path.getsize(filename))\n",
    "        \n",
    "    if not os.path.exists(target_dir):\n",
    "        os.makedirs(target_dir)\n",
    "    \n",
    "    with Image.open(filename) as im:\n",
    "        width, height = im.size\n",
    "        new_height = 96\n",
    "        new_width = int(new_height * width * 1.0 / height)\n",
    "        print('adjusted size:', new_width, new_height)\n",
    "        resized_im = im.resize((new_width, new_height))\n",
    "        output_filename = filename.replace(source_dir, target_dir)\n",
    "        resized_im.save(output_filename)\n",
    "\n",
    "    filename = target_dir + file\n",
    "    print(filename)\n",
    "    with Image.open(filename) as im:\n",
    "        box = (16,0,112,96)#设置要拷贝的区域  \n",
    "        region = im.crop(box) \n",
    "        region = region.transpose(Image.FLIP_LEFT_RIGHT)\n",
    "        #im.paste(region, box)#粘贴box大小的region到原先的图片对象中。 \n",
    "        print(images_dir + file)\n",
    "        region.save(images_dir + file)"
   ]
  },
  {
   "cell_type": "code",
   "execution_count": 20,
   "metadata": {},
   "outputs": [
    {
     "name": "stdout",
     "output_type": "stream",
     "text": [
      "C:\\MyGitHub\\Testface\\Camerapictures\\abcde.jpg\n",
      "C:\\MyGitHub\\Testface\\Camerapictures\\abcde.jpg 640 480 84605\n",
      "adjusted size: 128 96\n",
      "C:\\MyGitHub\\Testface\\input_images\\abcde.jpg\n",
      "C:\\MyGitHub\\Testface\\images\\abcde.jpg\n"
     ]
    }
   ],
   "source": [
    "imageresize('abcde')"
   ]
  },
  {
   "cell_type": "code",
   "execution_count": null,
   "metadata": {},
   "outputs": [],
   "source": []
  }
 ],
 "metadata": {
  "kernelspec": {
   "display_name": "Python [conda root]",
   "language": "python",
   "name": "conda-root-py"
  },
  "language_info": {
   "codemirror_mode": {
    "name": "ipython",
    "version": 3
   },
   "file_extension": ".py",
   "mimetype": "text/x-python",
   "name": "python",
   "nbconvert_exporter": "python",
   "pygments_lexer": "ipython3",
   "version": "3.6.6"
  }
 },
 "nbformat": 4,
 "nbformat_minor": 2
}
