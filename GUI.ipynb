{
 "cells": [
  {
   "cell_type": "code",
   "execution_count": 1,
   "metadata": {},
   "outputs": [
    {
     "name": "stderr",
     "output_type": "stream",
     "text": [
      "Using TensorFlow backend.\n"
     ]
    }
   ],
   "source": [
    "from keras.models import Sequential\n",
    "from keras.layers import Conv2D, ZeroPadding2D, Activation, Input, concatenate\n",
    "from keras.models import Model\n",
    "from keras.layers.normalization import BatchNormalization\n",
    "from keras.layers.pooling import MaxPooling2D, AveragePooling2D\n",
    "from keras.layers.merge import Concatenate\n",
    "from keras.layers.core import Lambda, Flatten, Dense\n",
    "from keras.initializers import glorot_uniform\n",
    "from keras.engine.topology import Layer\n",
    "from keras import backend as K\n",
    "K.set_image_data_format('channels_first')\n",
    "import pandas as pd\n",
    "import cv2\n",
    "import os\n",
    "import numpy as np\n",
    "from numpy import genfromtxt\n",
    "\n",
    "import tensorflow as tf\n",
    "from fr_utils import *\n",
    "from inception_blocks_v2 import *\n",
    "from facenet import *\n",
    "from python_resize_image import *\n",
    "\n",
    "import matplotlib.pyplot as plt # plt show pic\n",
    "import matplotlib.image as mpimg # mpimg read pic\n",
    "\n",
    "%matplotlib inline\n",
    "%load_ext autoreload\n",
    "%autoreload 2\n",
    "\n",
    "np.set_printoptions(threshold=np.nan)#设置打印方式，设置打印输出数组的时候完全输出，不考虑中间数组数字用省略号代替"
   ]
  },
  {
   "cell_type": "code",
   "execution_count": 2,
   "metadata": {},
   "outputs": [],
   "source": [
    "import sys,cv2,os\n",
    "from PyQt5 import QtCore, QtGui, QtWidgets\n",
    "from PyQt5.QtWidgets import QMainWindow, QDialog, QApplication\n",
    "from FaceMainwindow import Ui_MainWindow\n",
    "from Shot import Ui_Dialog\n",
    "from Recognize import Ui_Dialog2\n",
    "\n",
    "\n",
    "class Main(QMainWindow,Ui_MainWindow):\n",
    "    def __init__(self):\n",
    "        super().__init__()\n",
    "        self.setupUi(self)\n",
    "        self.pushButton.clicked.connect(self.Loadmodell)\n",
    "        \n",
    "    def Loadmodell(self):\n",
    "        #FRmodel = faceRecoModel(input_shape=(3, 96, 96))\n",
    "        FRmodel.compile(optimizer = 'adam', loss = triplet_loss, metrics = ['accuracy'])  \n",
    "        #compile the model to configure the learning process \n",
    "        load_weights_from_FaceNet(FRmodel)\n",
    "        print(\"Total Params:\", FRmodel.count_params())\n",
    "        #database = {}\n",
    "        #database[\"jiapeng\"] = img_to_encoding(\"images/jiapeng.jpg\", FRmodel)\n",
    "        #database[\"hummels\"] = img_to_encoding(\"images/hummels0001.jpg\", FRmodel)\n",
    "        #plt.imshow(mpimg.imread('images/jiapeng1.jpg') )\n",
    "        #verify(\"images/jiapeng1.jpg\", \"jiapeng\", database, FRmodel)\n",
    "        \n",
    "class Child(QDialog,Ui_Dialog):\n",
    "    def __init__(self):\n",
    "        super().__init__()\n",
    "        self.setupUi(self)\n",
    "        self.pushButton.clicked.connect(self.Webcam)\n",
    "        \n",
    "    def OPEN(self):\n",
    "        self.show()\n",
    "    def Webcam(self):\n",
    "        \"\"\"use webcam to take photo\"\"\"\n",
    "        cap = cv2.VideoCapture(0)\n",
    "        filename = self.lineEdit.text()\n",
    "        path = \"C:\\MyGitHub\\Testface\\Camerapictures\\\\\" + filename + \".jpg\"\n",
    "        print (path)\n",
    "        while(1):\n",
    "        # get a frame\n",
    "            ret,frame = cap.read()\n",
    "            # show a frame\n",
    "            cv2.imshow(\"capture\", frame)\n",
    "            if cv2.waitKey(1) & 0xFF == ord('q'):\n",
    "                cv2.imwrite(path, frame)\n",
    "                break\n",
    "        cap.release()\n",
    "        cv2.destroyAllWindows()\n",
    "        imageresize(filename)\n",
    "        path = \"images/\" + filename + \".jpg\"\n",
    "        \n",
    "        database[filename] = img_to_encoding(path, FRmodel)\n",
    "    \n",
    "        \n",
    "        \n",
    "class Child2(QDialog,Ui_Dialog2):\n",
    "    def __init__(self):\n",
    "        super().__init__()\n",
    "        self.setupUi(self)\n",
    "        self.pushButton.clicked.connect(self.Recog)\n",
    "    def OPEN(self):\n",
    "        self.show()\n",
    "    def Recog(self):\n",
    "        \"\"\"use webcam to take photo\"\"\"\n",
    "        cap = cv2.VideoCapture(0)\n",
    "        path = \"C:\\MyGitHub\\Testface\\Camerapictures\\cameraman.jpg\"\n",
    "        print (path)\n",
    "        while(1):\n",
    "        # get a frame\n",
    "            ret,frame = cap.read()\n",
    "            # show a frame\n",
    "            cv2.imshow(\"capture\", frame)\n",
    "            if cv2.waitKey(1) & 0xFF == ord('q'):\n",
    "                cv2.imwrite(path, frame)\n",
    "                break\n",
    "        cap.release()\n",
    "        cv2.destroyAllWindows()\n",
    "        imageresize(\"cameraman\")\n",
    "        plt.imshow(mpimg.imread('images/cameraman.jpg') )\n",
    "        a,b,c=who_is_it(\"images/cameraman.jpg\", database, FRmodel)\n",
    "        self.lineEdit.setText(c)\n"
   ]
  },
  {
   "cell_type": "code",
   "execution_count": 3,
   "metadata": {
    "scrolled": false
   },
   "outputs": [
    {
     "name": "stdout",
     "output_type": "stream",
     "text": [
      "Total Params: 3743280\n",
      "C:\\MyGitHub\\Testface\\Camerapictures\\jiapeng111.jpg\n",
      "C:\\MyGitHub\\Testface\\Camerapictures\\jiapeng111.jpg\n",
      "C:\\MyGitHub\\Testface\\Camerapictures\\jiapeng111.jpg 640 480 73506\n",
      "adjusted size: 128 96\n",
      "C:\\MyGitHub\\Testface\\input_images\\jiapeng111.jpg\n",
      "C:\\MyGitHub\\Testface\\images\\jiapeng111.jpg\n",
      "C:\\MyGitHub\\Testface\\Camerapictures\\cameraman.jpg\n",
      "C:\\MyGitHub\\Testface\\Camerapictures\\cameraman.jpg\n",
      "C:\\MyGitHub\\Testface\\Camerapictures\\cameraman.jpg 640 480 73616\n",
      "adjusted size: 128 96\n",
      "C:\\MyGitHub\\Testface\\input_images\\cameraman.jpg\n",
      "C:\\MyGitHub\\Testface\\images\\cameraman.jpg\n",
      "it's jiapeng111, the distance is 0.3947683\n",
      "C:\\MyGitHub\\Testface\\Camerapictures\\cameraman.jpg\n",
      "C:\\MyGitHub\\Testface\\Camerapictures\\cameraman.jpg\n",
      "C:\\MyGitHub\\Testface\\Camerapictures\\cameraman.jpg 640 480 83968\n",
      "adjusted size: 128 96\n",
      "C:\\MyGitHub\\Testface\\input_images\\cameraman.jpg\n",
      "C:\\MyGitHub\\Testface\\images\\cameraman.jpg\n",
      "Not in the database.\n",
      "C:\\MyGitHub\\Testface\\Camerapictures\\cameraman.jpg\n",
      "C:\\MyGitHub\\Testface\\Camerapictures\\cameraman.jpg\n",
      "C:\\MyGitHub\\Testface\\Camerapictures\\cameraman.jpg 640 480 73068\n",
      "adjusted size: 128 96\n",
      "C:\\MyGitHub\\Testface\\input_images\\cameraman.jpg\n",
      "C:\\MyGitHub\\Testface\\images\\cameraman.jpg\n",
      "it's jiapeng111, the distance is 0.45229855\n"
     ]
    },
    {
     "ename": "SystemExit",
     "evalue": "0",
     "output_type": "error",
     "traceback": [
      "An exception has occurred, use %tb to see the full traceback.\n",
      "\u001b[1;31mSystemExit\u001b[0m\u001b[1;31m:\u001b[0m 0\n"
     ]
    },
    {
     "name": "stderr",
     "output_type": "stream",
     "text": [
      "C:\\ProgramData\\Anaconda3\\lib\\site-packages\\IPython\\core\\interactiveshell.py:2969: UserWarning: To exit: use 'exit', 'quit', or Ctrl-D.\n",
      "  warn(\"To exit: use 'exit', 'quit', or Ctrl-D.\", stacklevel=1)\n"
     ]
    },
    {
     "data": {
      "image/png": "[encoded data removed]",
      "text/plain": [
       "<Figure size 432x288 with 1 Axes>"
      ]
     },
     "metadata": {},
     "output_type": "display_data"
    }
   ],
   "source": [
    "if __name__ == '__main__':  \n",
    "    app = QtWidgets.QApplication(sys.argv)\n",
    "    main = Main()\n",
    "    child = Child()\n",
    "    child2 = Child2()    \n",
    "    FRmodel = faceRecoModel(input_shape=(3, 96, 96))\n",
    "#     FRmodel.compile(optimizer = 'adam', loss = triplet_loss, metrics = ['accuracy'])  \n",
    "#     compile the model to configure the learning process \n",
    "#     load_weights_from_FaceNet(FRmodel)\n",
    "#     print(\"Total Params:\", FRmodel.count_params())\n",
    "    database = {}\n",
    "    main.show()\n",
    "    main.pushButton_1.clicked.connect(child.OPEN)\n",
    "    main.pushButton_2.clicked.connect(child2.OPEN)\n",
    "    #main.pushButton.clicked.connect(main.Loadmodell)\n",
    "    #child.pushButton.clicked.connect(child.Webcam)\n",
    "    sys.exit(app.exec_()) \n",
    "    "
   ]
  },
  {
   "cell_type": "code",
   "execution_count": 11,
   "metadata": {},
   "outputs": [
    {
     "name": "stdout",
     "output_type": "stream",
     "text": [
      "C:\\MyGitHub\\Testface\\GUI\\aa.jpg\n"
     ]
    }
   ],
   "source": [
    "import os\n",
    "\n",
    "fileaname = 'aa'\n",
    "path = \"C:\\MyGitHub\\Testface\\GUI\\\\\" + fileaname + \".jpg\"\n",
    "print (path)"
   ]
  },
  {
   "cell_type": "code",
   "execution_count": null,
   "metadata": {},
   "outputs": [],
   "source": []
  }
 ],
 "metadata": {
  "kernelspec": {
   "display_name": "Python [conda root]",
   "language": "python",
   "name": "conda-root-py"
  },
  "language_info": {
   "codemirror_mode": {
    "name": "ipython",
    "version": 3
   },
   "file_extension": ".py",
   "mimetype": "text/x-python",
   "name": "python",
   "nbconvert_exporter": "python",
   "pygments_lexer": "ipython3",
   "version": "3.6.6"
  }
 },
 "nbformat": 4,
 "nbformat_minor": 2
}
