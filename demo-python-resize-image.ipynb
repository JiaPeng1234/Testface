{
 "cells": [
  {
   "cell_type": "code",
   "execution_count": null,
   "metadata": {},
   "outputs": [],
   "source": [
    "#This Funktion is specially written for the camera of this laptop, \n",
    "#to shrink, to flip the photos, sothat size of the photos fits the input of the deepface modell"
   ]
  },
  {
   "cell_type": "code",
   "execution_count": 2,
   "metadata": {},
   "outputs": [],
   "source": [
    "from glob import glob\n",
    "from PIL import Image\n",
    "import os"
   ]
  },
  {
   "cell_type": "code",
   "execution_count": 3,
   "metadata": {},
   "outputs": [],
   "source": [
    "source_dir = 'C:\\Users\\yiping\\Pictures\\Camera Roll'\n",
    "target_dir = 'input_images'\n",
    "images_dir = 'C:\\MyGitHub\\Testface\\images'"
   ]
  },
  {
   "cell_type": "code",
   "execution_count": 4,
   "metadata": {},
   "outputs": [],
   "source": [
    "filenames = glob('{}/*.jpg'.format(source_dir))"
   ]
  },
  {
   "cell_type": "code",
   "execution_count": 5,
   "metadata": {},
   "outputs": [
    {
     "name": "stdout",
     "output_type": "stream",
     "text": [
      "['C:\\\\Users\\\\yiping\\\\Pictures\\\\Camera Roll\\\\jiapeng.jpg', 'C:\\\\Users\\\\yiping\\\\Pictures\\\\Camera Roll\\\\jiapeng1.jpg', 'C:\\\\Users\\\\yiping\\\\Pictures\\\\Camera Roll\\\\jiapeng2.jpg', 'C:\\\\Users\\\\yiping\\\\Pictures\\\\Camera Roll\\\\jiapeng3.jpg', 'C:\\\\Users\\\\yiping\\\\Pictures\\\\Camera Roll\\\\jiapeng4.jpg', 'C:\\\\Users\\\\yiping\\\\Pictures\\\\Camera Roll\\\\jiapeng5.jpg']\n"
     ]
    }
   ],
   "source": [
    "print(filenames)"
   ]
  },
  {
   "cell_type": "code",
   "execution_count": 6,
   "metadata": {},
   "outputs": [
    {
     "name": "stdout",
     "output_type": "stream",
     "text": [
      "('C:\\\\Users\\\\yiping\\\\Pictures\\\\Camera Roll\\\\jiapeng.jpg', 2560, 1920, 1562347L)\n",
      "('C:\\\\Users\\\\yiping\\\\Pictures\\\\Camera Roll\\\\jiapeng1.jpg', 2560, 1920, 1528070L)\n",
      "('C:\\\\Users\\\\yiping\\\\Pictures\\\\Camera Roll\\\\jiapeng2.jpg', 2560, 1920, 1579255L)\n",
      "('C:\\\\Users\\\\yiping\\\\Pictures\\\\Camera Roll\\\\jiapeng3.jpg', 2560, 1920, 1564485L)\n",
      "('C:\\\\Users\\\\yiping\\\\Pictures\\\\Camera Roll\\\\jiapeng4.jpg', 2560, 1920, 1573045L)\n",
      "('C:\\\\Users\\\\yiping\\\\Pictures\\\\Camera Roll\\\\jiapeng5.jpg', 2560, 1920, 1392902L)\n"
     ]
    }
   ],
   "source": [
    "for filename in filenames:\n",
    "    with Image.open(filename) as im:\n",
    "        width, height = im.size\n",
    "        print(filename, width, height, os.path.getsize(filename))"
   ]
  },
  {
   "cell_type": "code",
   "execution_count": 7,
   "metadata": {},
   "outputs": [],
   "source": [
    "if not os.path.exists(target_dir):\n",
    "    os.makedirs(target_dir)"
   ]
  },
  {
   "cell_type": "code",
   "execution_count": 8,
   "metadata": {},
   "outputs": [
    {
     "name": "stdout",
     "output_type": "stream",
     "text": [
      "('adjusted size:', 128, 96)\n",
      "('adjusted size:', 128, 96)\n",
      "('adjusted size:', 128, 96)\n",
      "('adjusted size:', 128, 96)\n",
      "('adjusted size:', 128, 96)\n",
      "('adjusted size:', 128, 96)\n"
     ]
    }
   ],
   "source": [
    "for filename in filenames:\n",
    "    with Image.open(filename) as im:\n",
    "        width, height = im.size\n",
    "        new_height = 96\n",
    "        new_width = int(new_height * width * 1.0 / height)\n",
    "        print('adjusted size:', new_width, new_height)\n",
    "        resized_im = im.resize((new_width, new_height))\n",
    "        output_filename = filename.replace(source_dir, target_dir)\n",
    "        resized_im.save(output_filename)"
   ]
  },
  {
   "cell_type": "code",
   "execution_count": 9,
   "metadata": {},
   "outputs": [],
   "source": [
    "filenames = glob('{}/*.jpg'.format(target_dir))"
   ]
  },
  {
   "cell_type": "code",
   "execution_count": 10,
   "metadata": {},
   "outputs": [
    {
     "name": "stdout",
     "output_type": "stream",
     "text": [
      "['input_images\\\\jiapeng.jpg', 'input_images\\\\jiapeng1.jpg', 'input_images\\\\jiapeng2.jpg', 'input_images\\\\jiapeng3.jpg', 'input_images\\\\jiapeng4.jpg', 'input_images\\\\jiapeng5.jpg']\n"
     ]
    }
   ],
   "source": [
    "print(filenames)"
   ]
  },
  {
   "cell_type": "code",
   "execution_count": 11,
   "metadata": {},
   "outputs": [
    {
     "name": "stdout",
     "output_type": "stream",
     "text": [
      "C:\\MyGitHub\\Testface\\images\\jiapeng.jpg\n",
      "C:\\MyGitHub\\Testface\\images\\jiapeng1.jpg\n",
      "C:\\MyGitHub\\Testface\\images\\jiapeng2.jpg\n",
      "C:\\MyGitHub\\Testface\\images\\jiapeng3.jpg\n",
      "C:\\MyGitHub\\Testface\\images\\jiapeng4.jpg\n",
      "C:\\MyGitHub\\Testface\\images\\jiapeng5.jpg\n"
     ]
    }
   ],
   "source": [
    "for filename in filenames:\n",
    "    with Image.open(filename) as im:\n",
    "        box = (16,0,112,96)#设置要拷贝的区域  \n",
    "        region = im.crop(box)  \n",
    "        region = region.transpose(Image.FLIP_LEFT_RIGHT)\n",
    "        #im.paste(region, box)#粘贴box大小的region到原先的图片对象中。 \n",
    "        print(images_dir+\"\\\\\"+filename[len(target_dir)+1:])\n",
    "        region.save(images_dir+\"\\\\\"+filename[len(target_dir)+1:])"
   ]
  },
  {
   "cell_type": "code",
   "execution_count": null,
   "metadata": {},
   "outputs": [],
   "source": []
  },
  {
   "cell_type": "code",
   "execution_count": null,
   "metadata": {},
   "outputs": [],
   "source": []
  }
 ],
 "metadata": {
  "kernelspec": {
   "display_name": "Python [conda env:py2]",
   "language": "python",
   "name": "conda-env-py2-py"
  },
  "language_info": {
   "codemirror_mode": {
    "name": "ipython",
    "version": 2
   },
   "file_extension": ".py",
   "mimetype": "text/x-python",
   "name": "python",
   "nbconvert_exporter": "python",
   "pygments_lexer": "ipython2",
   "version": "2.7.15"
  }
 },
 "nbformat": 4,
 "nbformat_minor": 2
}
