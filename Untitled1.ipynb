{
 "cells": [
  {
   "cell_type": "code",
   "execution_count": 1,
   "metadata": {},
   "outputs": [],
   "source": [
    "import sys\n",
    "from PyQt5 import QtCore, QtGui, QtWidgets\n",
    "\n",
    "class Ui_Dialog(object):\n",
    "    def setupUi(self, Dialog):\n",
    "        Dialog.setObjectName(\"Dialog\")\n",
    "        Dialog.resize(1240, 1016)\n",
    "        self.pushButton = QtWidgets.QPushButton(Dialog)\n",
    "        self.pushButton.setGeometry(QtCore.QRect(410, 570, 271, 71))\n",
    "        self.pushButton.setObjectName(\"pushButton\")\n",
    "\n",
    "        self.retranslateUi(Dialog)\n",
    "        QtCore.QMetaObject.connectSlotsByName(Dialog)\n",
    "\n",
    "    def retranslateUi(self, Dialog):\n",
    "        _translate = QtCore.QCoreApplication.translate\n",
    "        Dialog.setWindowTitle(_translate(\"Dialog\", \"Dialog\"))\n",
    "        self.pushButton.setText(_translate(\"Dialog\", \"add label to dataset\"))\n",
    "\n",
    "# -*- coding: utf-8 -*-\n",
    "\n",
    "# Form implementation generated from reading ui file 'C:\\MyGitHub\\Testface\\GUI\\FaceMainwindow.ui'\n",
    "#\n",
    "# Created by: PyQt5 UI code generator 5.11.2\n",
    "#\n",
    "# WARNING! All changes made in this file will be lost!\n",
    "\n",
    "# from PyQt5 import QtCore, QtGui, QtWidgets\n",
    "\n",
    "# class Ui_MainWindow(object):\n",
    "#     def setupUi(self, MainWindow):\n",
    "#         MainWindow.setObjectName(\"MainWindow\")\n",
    "#         MainWindow.resize(1332, 976)\n",
    "#         self.centralwidget = QtWidgets.QWidget(MainWindow)\n",
    "#         self.centralwidget.setObjectName(\"centralwidget\")\n",
    "#         self.pushButton_1 = QtWidgets.QPushButton(self.centralwidget)\n",
    "#         self.pushButton_1.setGeometry(QtCore.QRect(710, 200, 561, 51))\n",
    "#         self.pushButton_1.setObjectName(\"pushButton_1\")\n",
    "#         self.pushButton_2 = QtWidgets.QPushButton(self.centralwidget)\n",
    "#         self.pushButton_2.setGeometry(QtCore.QRect(710, 300, 251, 81))\n",
    "#         self.pushButton_2.setObjectName(\"pushButton_2\")\n",
    "#         self.label = QtWidgets.QLabel(self.centralwidget)\n",
    "#         self.label.setGeometry(QtCore.QRect(60, 180, 621, 671))\n",
    "#         self.label.setText(\"\")\n",
    "#         self.label.setPixmap(QtGui.QPixmap(\"./images/GUItitlepic.PNG\"))\n",
    "#         self.label.setObjectName(\"label\")\n",
    "#         self.label_2 = QtWidgets.QLabel(self.centralwidget)\n",
    "#         self.label_2.setGeometry(QtCore.QRect(420, 30, 491, 121))\n",
    "#         font = QtGui.QFont()\n",
    "#         font.setFamily(\"Bahnschrift\")\n",
    "#         font.setPointSize(72)\n",
    "#         self.label_2.setFont(font)\n",
    "#         self.label_2.setWordWrap(False)\n",
    "#         self.label_2.setObjectName(\"label_2\")\n",
    "#         MainWindow.setCentralWidget(self.centralwidget)\n",
    "#         self.menubar = QtWidgets.QMenuBar(MainWindow)\n",
    "#         self.menubar.setGeometry(QtCore.QRect(0, 0, 1332, 37))\n",
    "#         self.menubar.setObjectName(\"menubar\")\n",
    "#         MainWindow.setMenuBar(self.menubar)\n",
    "#         self.statusbar = QtWidgets.QStatusBar(MainWindow)\n",
    "#         self.statusbar.setObjectName(\"statusbar\")\n",
    "#         MainWindow.setStatusBar(self.statusbar)\n",
    "\n",
    "#         self.retranslateUi(MainWindow)\n",
    "#         QtCore.QMetaObject.connectSlotsByName(MainWindow)\n",
    "\n",
    "#     def retranslateUi(self, MainWindow):\n",
    "#         _translate = QtCore.QCoreApplication.translate\n",
    "#         MainWindow.setWindowTitle(_translate(\"MainWindow\", \"MainWindow\"))\n",
    "#         self.pushButton_1.setText(_translate(\"MainWindow\", \"Add a picture with label to the dataset\"))\n",
    "#         self.pushButton_2.setText(_translate(\"MainWindow\", \"Face recognization\"))\n",
    "#         self.label_2.setText(_translate(\"MainWindow\", \"<html><head/><body><p align=\\\"center\\\"><span style=\\\" font-size:18pt; font-weight:600;\\\">FaceNet</span></p></body></html>\"))\n",
    "\n",
    "\n"
   ]
  },
  {
   "cell_type": "code",
   "execution_count": 2,
   "metadata": {},
   "outputs": [
    {
     "ename": "SystemExit",
     "evalue": "0",
     "output_type": "error",
     "traceback": [
      "An exception has occurred, use %tb to see the full traceback.\n",
      "\u001b[1;31mSystemExit\u001b[0m\u001b[1;31m:\u001b[0m 0\n"
     ]
    },
    {
     "name": "stderr",
     "output_type": "stream",
     "text": [
      "C:\\ProgramData\\Anaconda3\\lib\\site-packages\\IPython\\core\\interactiveshell.py:2969: UserWarning: To exit: use 'exit', 'quit', or Ctrl-D.\n",
      "  warn(\"To exit: use 'exit', 'quit', or Ctrl-D.\", stacklevel=1)\n"
     ]
    }
   ],
   "source": [
    "if __name__ == '__main__':  \n",
    "    app = QtWidgets.QApplication(sys.argv)\n",
    "    main = QtWidgets.QDialog()\n",
    "    ui = Ui_Dialog()\n",
    "\n",
    "    ui.setupUi(main) \n",
    "    main.show()\n",
    "    sys.exit(app.exec_()) \n",
    "#     app = QtWidgets.QApplication(sys.argv)\n",
    "#     main = QtWidgets.QMainWindow()\n",
    "#     ui = Ui_MainWindow()\n",
    "\n",
    "#     ui.setupUi(main) \n",
    "#     main.show()\n",
    "#     sys.exit(app.exec_()) "
   ]
  },
  {
   "cell_type": "code",
   "execution_count": 3,
   "metadata": {},
   "outputs": [],
   "source": [
    "if __name__ == '__main__':\n",
    "    app = QtWidgets.QApplication(sys.argv)\n",
    "    w = QtWidgets.QWidget()\n",
    "    w.resize(400, 200)\n",
    "    w.setWindowTitle(\"hello PyQt5\")\n",
    "    w.show()\n",
    "    exit(app.exec_())\n",
    "    \n",
    "    "
   ]
  }
 ],
 "metadata": {
  "kernelspec": {
   "display_name": "Python [conda root]",
   "language": "python",
   "name": "conda-root-py"
  },
  "language_info": {
   "codemirror_mode": {
    "name": "ipython",
    "version": 3
   },
   "file_extension": ".py",
   "mimetype": "text/x-python",
   "name": "python",
   "nbconvert_exporter": "python",
   "pygments_lexer": "ipython3",
   "version": "3.6.6"
  }
 },
 "nbformat": 4,
 "nbformat_minor": 2
}
